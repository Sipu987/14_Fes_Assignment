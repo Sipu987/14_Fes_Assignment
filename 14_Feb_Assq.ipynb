{
 "cells": [
  {
   "cell_type": "code",
   "execution_count": 1,
   "id": "6540fa14-510d-45b7-8d61-5daa9d9f966a",
   "metadata": {},
   "outputs": [],
   "source": [
    "#1.Ans:\n",
    "# Multiple sequesnce of operation that an opearing system can excute indepandently. It is a\n",
    "# concept how tasks are executed independently.\n",
    "# We will use multilple parts of program at a time using threading module.\n",
    "# \"Threading\" module used to handle the threads in python."
   ]
  },
  {
   "cell_type": "code",
   "execution_count": 3,
   "id": "3438081c-c792-4f10-b2c7-96c30171dbfd",
   "metadata": {},
   "outputs": [],
   "source": [
    "# 2.Ans:\n",
    "#\"Threading\" module used to handle the sequesnce oof operation at a time independtly in python.\n",
    "# activeCount() - Retuns number of thrading objects which are active\n",
    "# CurrentThread()- Number of threading object in caller's thread control\n",
    "# enumerate () - Returns list of threading objects which are active"
   ]
  },
  {
   "cell_type": "code",
   "execution_count": 5,
   "id": "0fc466e6-9df3-4919-841d-48792ce8534b",
   "metadata": {},
   "outputs": [],
   "source": [
    "# 3. Ans:\n",
    "# run() - Method represents thread's activity\n",
    "# start() - method represts the srat thread activity\n",
    "# join() - waits untill thread terminates\n",
    "# is_alive() - Returns whether thread is active\n",
    "#Note - isAlive() - there is no attribute avilable for this"
   ]
  },
  {
   "cell_type": "code",
   "execution_count": 13,
   "id": "92f9ee5d-e9fe-487e-be1d-5ebef58ac64a",
   "metadata": {},
   "outputs": [],
   "source": [
    "import threading"
   ]
  },
  {
   "cell_type": "code",
   "execution_count": 16,
   "id": "983e8c7d-81e3-452b-8a12-aed4ed51ac7d",
   "metadata": {},
   "outputs": [
    {
     "name": "stdout",
     "output_type": "stream",
     "text": [
      "Suare of number is: 625\n",
      "Cube of number is: 15625\n",
      "Done!\n"
     ]
    }
   ],
   "source": [
    "# 4 Ans:\n",
    "def print_square(x):\n",
    "    print(f\"Suare of number is: {x*x}\")\n",
    "def print_cube(x):\n",
    "    print(f\"Cube of number is: {x*x*x}\")\n",
    "if __name__ == \"__main__\":\n",
    "    t1 = threading.Thread(target=print_square, args = (25,))\n",
    "    t2 = threading.Thread(target=print_cube, args=(25,))\n",
    "    t1.start()\n",
    "    t2.start()\n",
    "    t1.join()\n",
    "    t2.join()\n",
    "    print(\"Done!\")"
   ]
  },
  {
   "cell_type": "code",
   "execution_count": 1,
   "id": "392d983d-d48e-49b4-bc07-845e7baa7ab3",
   "metadata": {},
   "outputs": [],
   "source": [
    "#5.Ans\n",
    "#Advantages:-\n",
    "# Multithreading applications are more responsive.\n",
    "# It ensure effective utilization of computer stystem resources\n",
    "# it's multiprocesser architecture more effective due to similarity\n",
    "# It save time by executing multiple threadd at same time.\n",
    "# Do not need too much memory tostore multiple thread.\n",
    "\n",
    "# Disadvantages:-\n",
    "# Are not easy to write the code.\n",
    "# It's very hard to replicate the error. It's very difficult to identify and verify the root cause of the errror.\n",
    "# Task of managing concurrency among the thread is difficult\n",
    "# Tesing of multitheard application is very difficult"
   ]
  },
  {
   "cell_type": "code",
   "execution_count": 2,
   "id": "1219c99e-bad9-47a7-a2dc-535d5efd0a6a",
   "metadata": {},
   "outputs": [],
   "source": [
    "#6.Ans\n",
    "# Deadlock - The situation in threads are unable to progress because the condition never occurs\n",
    "# in multithread concurrency. The programm must be stopped or frozen and we might have to \n",
    "# stop it frocefully.  It's very difficult to find out deadlock in an applicattion processing.\n",
    "\n",
    "# Race conditions -\n",
    "# Kind of bug on concurrency programmimg. Two or more thread have access to common share data and\n",
    "# they run together to find out the resullt. The programm will be very unpredictable and it's \n",
    "# change every time when we run the programm.\n"
   ]
  },
  {
   "cell_type": "code",
   "execution_count": null,
   "id": "760fdc46-f1ac-4bea-a267-0dec801b66ce",
   "metadata": {},
   "outputs": [],
   "source": []
  }
 ],
 "metadata": {
  "kernelspec": {
   "display_name": "Python 3 (ipykernel)",
   "language": "python",
   "name": "python3"
  },
  "language_info": {
   "codemirror_mode": {
    "name": "ipython",
    "version": 3
   },
   "file_extension": ".py",
   "mimetype": "text/x-python",
   "name": "python",
   "nbconvert_exporter": "python",
   "pygments_lexer": "ipython3",
   "version": "3.10.8"
  }
 },
 "nbformat": 4,
 "nbformat_minor": 5
}
